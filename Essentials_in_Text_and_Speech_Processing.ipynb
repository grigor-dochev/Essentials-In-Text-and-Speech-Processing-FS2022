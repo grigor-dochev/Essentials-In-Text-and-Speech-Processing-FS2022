{
  "cells": [
    {
      "cell_type": "markdown",
      "metadata": {
        "id": "view-in-github",
        "colab_type": "text"
      },
      "source": [
        "<a href=\"https://colab.research.google.com/github/grigor-dochev/Essentials-In-Text-and-Speech-Processing-FS2022/blob/main/Essentials_in_Text_and_Speech_Processing.ipynb\" target=\"_parent\"><img src=\"https://colab.research.google.com/assets/colab-badge.svg\" alt=\"Open In Colab\"/></a>"
      ]
    },
    {
      "cell_type": "markdown",
      "source": [
        "# Setup"
      ],
      "metadata": {
        "id": "aEWLWUBgIgw2"
      }
    },
    {
      "cell_type": "code",
      "execution_count": null,
      "metadata": {
        "id": "V3wt3E9KygTj"
      },
      "outputs": [],
      "source": [
        "# !unzip BBC\\ News\\ Summary\\ Dataset.zip\n",
        "!pip install bert-extractive-summarizer\n",
        "!pip install rouge\n",
        "!pip install tabulate\n",
        "!pip install matplotlib\n",
        "!pip install numpy\n",
        "\n",
        "import editdistance\n",
        "import itertools\n",
        "import matplotlib.pyplot as plt\n",
        "import networkx as nx\n",
        "import nltk\n",
        "import numpy as np\n",
        "import os\n",
        "import random\n",
        "\n",
        "from rouge import Rouge\n",
        "from summarizer import Summarizer\n",
        "from tabulate import tabulate\n",
        "from enum import Enum, auto\n",
        "\n",
        "nltk.download('punkt')\n",
        "nltk.download('stopwords')\n",
        "nltk.download('punkt', quiet=True)\n",
        "nltk.download('averaged_perceptron_tagger', quiet=True)\n",
        "\n",
        "from nltk.corpus import stopwords\n",
        "from nltk.tokenize import word_tokenize"
      ]
    },
    {
      "cell_type": "markdown",
      "source": [
        "# Preprocessing"
      ],
      "metadata": {
        "id": "3MZlZeL8JOD8"
      }
    },
    {
      "cell_type": "code",
      "source": [
        "class PreprocessingTechnique(Enum):\n",
        "  STOP_WORDS = 'Stop Words'\n",
        "  LOWER_CASE = 'Lower Case'\n",
        "  NONE = 'None'"
      ],
      "metadata": {
        "id": "5NEXQeXIJm4U"
      },
      "execution_count": 65,
      "outputs": []
    },
    {
      "cell_type": "code",
      "execution_count": 66,
      "metadata": {
        "id": "6i7qsE9ycv_m"
      },
      "outputs": [],
      "source": [
        "class Preprocessor:\n",
        "  \"\"\"\n",
        "  A class used to apply NLP preprocessing techniques to the data\n",
        "\n",
        "  ...\n",
        "\n",
        "  Attributes\n",
        "  ----------\n",
        "  __text: str\n",
        "      a string representing the article / summary\n",
        "  __preprocessing_technique : PreprocessingTechnique\n",
        "      an enum used to represent which NLP preprocessing technique is selected\n",
        "\n",
        "  Methods\n",
        "  -------\n",
        "  __get_lowercased_text\n",
        "      returns the text lowercased\n",
        "  __get_removed_stop_words_text\n",
        "      returns the text with all stop words in the English language removed\n",
        "  get_preprocessed_text\n",
        "      returns the text after preprocessing has been applied\n",
        "  \"\"\"\n",
        "  def __init__(self, text, preprocessing_technique):\n",
        "    self.__text = text\n",
        "    self.__preprocessing_technique = preprocessing_technique\n",
        "\n",
        "  def __get_lowercased_text(self):\n",
        "    return self.__text.lower()\n",
        "\n",
        "  def __get_removed_stop_words_text(self):\n",
        "    stop_words = set(stopwords.words('english'))\n",
        "    word_tokens = word_tokenize(self.__text)\n",
        "    filtered_sentence = [word for word in word_tokens if not word.lower() in stop_words]\n",
        "\n",
        "    return \" \".join(filtered_sentence)\n",
        "  \n",
        "  def get_preprocessed_text(self):\n",
        "    if self.__preprocessing_technique == PreprocessingTechnique.LOWER_CASE:\n",
        "      return self.__get_lowercased_text()\n",
        "    elif self.__preprocessing_technique == PreprocessingTechnique.STOP_WORDS:\n",
        "      return self.__get_removed_stop_words_text()\n",
        "    else:\n",
        "      return self.__text"
      ]
    },
    {
      "cell_type": "markdown",
      "source": [
        "# Dataset Loader"
      ],
      "metadata": {
        "id": "huZCc6IUJS4L"
      }
    },
    {
      "cell_type": "code",
      "source": [
        "class DataItem:\n",
        "  \"\"\"\n",
        "  A class used to represent a data item\n",
        "\n",
        "  ...\n",
        "\n",
        "  Attributes\n",
        "  ----------\n",
        "  __article : str\n",
        "      a string to store the article corresponding to this data item\n",
        "  __summary : str\n",
        "      the string to store the summary corresponding to this data item\n",
        "\n",
        "  Methods\n",
        "  -------\n",
        "  get_article\n",
        "      returns the article as a string\n",
        "  get_summary\n",
        "      returns the summary as a string\n",
        "  \"\"\"\n",
        "\n",
        "  def __init__(self, article, summary):\n",
        "    self.__article = article\n",
        "    self.__summary = summary\n",
        "\n",
        "  def get_article(self):\n",
        "    \"\"\"Returns the article as a string\n",
        "\n",
        "    Parameters\n",
        "    ----------\n",
        "    self\n",
        "        reference to the class\n",
        "\n",
        "    Returns\n",
        "    -------\n",
        "    __article\n",
        "        the article as a string\n",
        "    \"\"\"\n",
        "\n",
        "    return self.__article\n",
        "\n",
        "  def get_summary(self):\n",
        "    \"\"\"Returns the summary as a string\n",
        "\n",
        "    Parameters\n",
        "    ----------\n",
        "    self\n",
        "        reference to the class\n",
        "        \n",
        "    Returns\n",
        "    -------\n",
        "    __summary\n",
        "        the summary as a string\n",
        "    \"\"\"\n",
        "\n",
        "    return self.__summary"
      ],
      "metadata": {
        "id": "at4sVkTNPJIw"
      },
      "execution_count": 67,
      "outputs": []
    },
    {
      "cell_type": "code",
      "source": [
        "class DatasetCategory(Enum):\n",
        "  BUSINESS = auto()\n",
        "  ENTERTAINMENT = auto()\n",
        "  POLITICS = auto()\n",
        "  TECH = auto()"
      ],
      "metadata": {
        "id": "KLJfAUsLJinf"
      },
      "execution_count": 68,
      "outputs": []
    },
    {
      "cell_type": "code",
      "execution_count": 79,
      "metadata": {
        "id": "u8zF2LJIxWdQ"
      },
      "outputs": [],
      "source": [
        "class DatasetLoader:\n",
        "  \"\"\"\n",
        "  A class used to load the contents of the dataset and return a suitable format for the models to use\n",
        "\n",
        "  ...\n",
        "\n",
        "  Attributes\n",
        "  ----------\n",
        "  __preprocessing_technique : PreprocessingTechnique\n",
        "      an enum used to represent which NLP preprocessing technique is selected\n",
        "  __categories : list[str]\n",
        "      a list of strings representing each category of the dataset\n",
        "  __dataset_directories : dict{str: str}\n",
        "      a dictionary of string keys (representing the folder names) and values (representing the relative directory)\n",
        "\n",
        "  Methods\n",
        "  -------\n",
        "  __read_file_contents\n",
        "      returns a dictionary of string values (representing text files) mapped to string keys (representing the corresponding file names)\n",
        "  __load_category\n",
        "      returns a list of all data items for a given category\n",
        "  load_dataset\n",
        "      returns the whole dataset as a dictionary with string keys (representing a category) and lists of DataItem as values (representing all article/summary pairs for the given category)\n",
        "  visualize_dataset\n",
        "      displays a graph to visualize the distribution of articles and summaries in the dataset with regard to the categories\n",
        "  \"\"\"\n",
        "\n",
        "  def __init__(self, preprocessing_technique):\n",
        "    self.__preprocessing_technique = preprocessing_technique\n",
        "    self.__categories = [category.name.lower() for category in DatasetCategory]\n",
        "    self.__dataset_directories = { 'articles': 'BBC News Summary Dataset/News Articles/',\n",
        "        'summaries': 'BBC News Summary Dataset/Summaries/'}\n",
        "\n",
        "  def __read_file_contents(self, directory_name, category, mute_errors=True):\n",
        "    texts = {}\n",
        "\n",
        "    for filename in os.listdir(self.__dataset_directories[directory_name] + category):\n",
        "        file_path = os.path.join(self.__dataset_directories[directory_name] + category, filename)\n",
        "        if os.path.isfile(file_path):\n",
        "            try:\n",
        "                with open(file_path) as file:\n",
        "                    data = file.read()\n",
        "                    preprocessor = Preprocessor(data, self.__preprocessing_technique)\n",
        "                    texts[filename] = preprocessor.get_preprocessed_text()\n",
        "            except UnicodeDecodeError as error:\n",
        "              (print()) if (mute_errors) else (print('Could not decode file', file_path, '\\nError: ', error))\n",
        "\n",
        "    return texts\n",
        "\n",
        "  def __load_category(self, category):\n",
        "    data_items = []\n",
        "    articles = {}\n",
        "    summaries = {}\n",
        "\n",
        "    articles = self.__read_file_contents('articles', category)\n",
        "    summaries = self.__read_file_contents('summaries', category)\n",
        "\n",
        "    for i in range(1, min(len(summaries), len(articles))):\n",
        "      article = articles[str(i).zfill(3) + '.txt']\n",
        "      summary = summaries[str(i).zfill(3) + '.txt']\n",
        "      data_item = DataItem(article, summary)\n",
        "      data_items.append(data_item)\n",
        "\n",
        "    return data_items\n",
        "\n",
        "  def load_dataset(self):\n",
        "    dataset = {}\n",
        "\n",
        "    for category in self.__categories:\n",
        "        category_data_items = self.__load_category(category)\n",
        "        dataset[category] = category_data_items\n",
        "\n",
        "    return dataset\n",
        "\n",
        "  def visualize_dataset(self):\n",
        "    dataset = self.load_dataset()\n",
        "    fig = plt.figure()\n",
        "    ax = fig.add_axes([0, 0, 1, 1])\n",
        "    data_items_per_category = [len(data_items) for data_items in dataset.values()]\n",
        "    ax.bar(self.__categories, data_items_per_category)\n",
        "    plt.xlabel('Categories', fontsize = 14)\n",
        "    plt.ylabel('Number of Articles / Summaries', fontsize = 14)\n",
        "    plt.show()"
      ]
    },
    {
      "cell_type": "code",
      "source": [
        "dataset_loader = DatasetLoader(PreprocessingTechnique.NONE)\n",
        "dataset_loader.visualize_dataset()"
      ],
      "metadata": {
        "colab": {
          "base_uri": "https://localhost:8080/",
          "height": 354
        },
        "id": "1vrkFknwynsg",
        "outputId": "70c81729-798f-4806-9871-93f280ce390a"
      },
      "execution_count": 80,
      "outputs": [
        {
          "output_type": "display_data",
          "data": {
            "text/plain": [
              "<Figure size 432x288 with 1 Axes>"
            ],
            "image/png": "[encoded data removed]"
          },
          "metadata": {
            "needs_background": "light"
          }
        }
      ]
    },
    {
      "cell_type": "markdown",
      "source": [
        "# TextRank"
      ],
      "metadata": {
        "id": "aFPxL-xrJWlU"
      }
    },
    {
      "cell_type": "code",
      "execution_count": 71,
      "metadata": {
        "id": "kQWU48TVyms-"
      },
      "outputs": [],
      "source": [
        "'''\n",
        "This code was adapted from the following source of code: \n",
        "https://github.com/davidadamojr/TextRank\n",
        "'''\n",
        "\n",
        "class TextRank:\n",
        "  def __init__(self):\n",
        "    pass\n",
        "\n",
        "  def filter_for_tags(self, tagged, tags=['NN', 'JJ', 'NNP']):\n",
        "    return [item for item in tagged if item[1] in tags]\n",
        "\n",
        "  def normalize(self, tagged):\n",
        "    return [(item[0].replace('.', ''), item[1]) for item in tagged]\n",
        "\n",
        "  def unique_everseen(self, iterable, key=None):\n",
        "    seen = set()\n",
        "    seen_add = seen.add\n",
        "    if key is None:\n",
        "        def key(x): return x\n",
        "    for element in iterable:\n",
        "        k = key(element)\n",
        "        if k not in seen:\n",
        "            seen_add(k)\n",
        "            yield element\n",
        "\n",
        "  def build_graph(self, nodes):\n",
        "    gr = nx.Graph()  \n",
        "    gr.add_nodes_from(nodes)\n",
        "    nodePairs = list(itertools.combinations(nodes, 2))\n",
        "\n",
        "    for pair in nodePairs:\n",
        "        firstString = pair[0]\n",
        "        secondString = pair[1]\n",
        "        levDistance = editdistance.eval(firstString, secondString)\n",
        "        gr.add_edge(firstString, secondString, weight=levDistance)\n",
        "\n",
        "    return gr\n",
        "        \n",
        "  def extract_sentences(self, text, summary_length=100, clean_sentences=False, language='english'):\n",
        "    sent_detector = nltk.data.load('tokenizers/punkt/' + language + '.pickle')\n",
        "    sentence_tokens = sent_detector.tokenize(text.strip())\n",
        "    graph = self.build_graph(sentence_tokens)\n",
        "    calculated_page_rank = nx.pagerank(graph, weight='weight')\n",
        "    sentences = sorted(calculated_page_rank, key=calculated_page_rank.get, reverse=True)\n",
        "\n",
        "    summary = ' '.join(sentences)\n",
        "    summary_words = summary.split()\n",
        "    summary_words = summary_words[0: summary_length]\n",
        "    dot_indices = [idx for idx, word in enumerate(summary_words) if word.find('.') != -1]\n",
        "    if clean_sentences and dot_indices:\n",
        "        last_dot = max(dot_indices) + 1\n",
        "        summary = ' '.join(summary_words[0: last_dot])\n",
        "    else:\n",
        "        summary = ' '.join(summary_words)\n",
        "\n",
        "    return summary"
      ]
    },
    {
      "cell_type": "markdown",
      "source": [
        "# Evaluation"
      ],
      "metadata": {
        "id": "pqra4ODrJZSk"
      }
    },
    {
      "cell_type": "code",
      "source": [
        "class ExtractiveTextSummarizationModel(Enum):\n",
        "  TEXTRANK = 'TextRank'\n",
        "  BERT = 'Bert'"
      ],
      "metadata": {
        "id": "LDeZHgways9O"
      },
      "execution_count": 72,
      "outputs": []
    },
    {
      "cell_type": "code",
      "execution_count": 73,
      "metadata": {
        "id": "W5Qu0XF688__"
      },
      "outputs": [],
      "source": [
        "class Evaluator:\n",
        "  \"\"\"\n",
        "  A class used to evaluate the two chosen algorithms using the rouge metric\n",
        "\n",
        "  ...\n",
        "\n",
        "  Attributes\n",
        "  ----------\n",
        "  __preprocessing_technique : PreprocessingTechnique\n",
        "      an enum used to represent which NLP preprocessing technique is selected\n",
        "   __categories : list[str]\n",
        "      a list of strings representing each category of the dataset\n",
        "  __dataset: dict{str: list[DataItem]}\n",
        "      returns the whole dataset as a dictionary with string keys (representing a category) and lists of DataItem as values (representing all article/summary pairs for the given category)\n",
        " \n",
        "  Methods\n",
        "  -------\n",
        "  __load_dataset\n",
        "      helper method to call the appropriate method from the DatasetLoader class to populate the __dataset property\n",
        "  __get_rouge_scores\n",
        "      method that returns the rouge scores as a list\n",
        "  __display_rouge_metric_bar_chart\n",
        "      display a bar chart showing the rouge-l and rouge-1 results\n",
        "  display_rouge_metric_results\n",
        "      displays a table of the rouge-l and rouge-1 results for the given data from a specifed model\n",
        "  display_human_verifiable_results\n",
        "      displays random pairs of model-generated and human-written summaries for vizual evaluation\n",
        "  \"\"\"\n",
        "\n",
        "  def __init__(self, preprocessing_technique=PreprocessingTechnique.NONE):\n",
        "    self.__preprocessing_technique = preprocessing_technique\n",
        "    self.__categories = [category.name.lower() for category in DatasetCategory]\n",
        "    self.__dataset = {}\n",
        "    self.__load_dataset()\n",
        "\n",
        "  def __load_dataset(self):\n",
        "    dataset_loader = DatasetLoader(self.__preprocessing_technique)\n",
        "    self.__dataset = dataset_loader.load_dataset()\n",
        "\n",
        "  def __get_rouge_scores(self, summarization_model, data_items):\n",
        "    textrank = TextRank()\n",
        "    bert = Summarizer()\n",
        "    rouge = Rouge()\n",
        "    \n",
        "    summarized_articles = {'model': [], 'reference': []}\n",
        "\n",
        "    for data_item in data_items:\n",
        "      article = data_item.get_article()\n",
        "      \n",
        "      if summarization_model == ExtractiveTextSummarizationModel.TEXTRANK:\n",
        "        summary = textrank.extract_sentences(article)\n",
        "\n",
        "      elif summarization_model == ExtractiveTextSummarizationModel.BERT:\n",
        "        summary = bert(article)\n",
        "      \n",
        "      summarized_articles['model'].append(summary)\n",
        "      summarized_articles['reference'].append(data_item.get_summary())\n",
        "\n",
        "    scores = rouge.get_scores(summarized_articles['model'], summarized_articles['reference'], avg=True)\n",
        "    \n",
        "    return scores\n",
        "\n",
        "  def __display_rouge_metric_bar_chart(self, rouge_scores):\n",
        "    bar_width = 0.25\n",
        "    fig = plt.subplots(figsize = (12, 8))\n",
        "    \n",
        "    recall = [rouge_scores['rouge-1']['r'], rouge_scores['rouge-l']['r']]\n",
        "    precision = [rouge_scores['rouge-1']['p'], rouge_scores['rouge-l']['p']]\n",
        "    f1_score = [rouge_scores['rouge-1']['f'], rouge_scores['rouge-l']['f']]\n",
        "    \n",
        "    bar1 = np.arange(len(recall))\n",
        "    bar2 = [x + bar_width for x in bar1]\n",
        "    bar3 = [x + bar_width for x in bar2]\n",
        "    \n",
        "    plt.bar(bar1, recall, color ='lightgray', width = bar_width, edgecolor ='grey', label ='recall')\n",
        "    plt.bar(bar2, precision, color ='gray', width = bar_width, edgecolor ='grey', label ='precision')\n",
        "    plt.bar(bar3, f1_score, color ='darkgray', width = bar_width, edgecolor ='grey', label ='f1_score')\n",
        "    \n",
        "    plt.xlabel('Metric', fontsize = 14)\n",
        "    plt.ylabel('Value', fontsize = 14)\n",
        "    plt.xticks([r + bar_width for r in range(len(recall))], ['ROUGE-1', 'ROUGE-L'])\n",
        "    \n",
        "    plt.legend()\n",
        "    plt.show()\n",
        "\n",
        "  def display_rouge_metric_results(self, summarization_model, by_category=False, show_bar_chart=False):\n",
        "    print('Extractive Text Summarization Model:', summarization_model.value)\n",
        "    print('By Category:', by_category)\n",
        "    print('Preprocessing:', self.__preprocessing_technique.value)\n",
        "\n",
        "    rouge_score = lambda metric: [('Rouge-' + metric), scores[('rouge-' + metric)]['f'], scores[('rouge-' + metric)]['p'], scores[('rouge-' + metric)]['r']]\n",
        "\n",
        "    if by_category:\n",
        "      for category in self.__categories:\n",
        "        print('Category:', category)\n",
        "        scores = self.__get_rouge_scores(summarization_model, self.__dataset[category])\n",
        "        if show_bar_chart:\n",
        "          self.__display_rouge_bar_chart(scores)\n",
        "        print(tabulate([rouge_score('1'), rouge_score('l')], [\"\", \"f1_score\", \"precision\", \"recall\"], tablefmt=\"grid\"))\n",
        "    else:\n",
        "      all_category_items = self.__dataset.values()\n",
        "      all_category_items = [data_item_sub_list for sub_list in all_category_items for data_item_sub_list in sub_list]\n",
        "      scores = self.__get_rouge_scores(summarization_model, all_category_items)\n",
        "      if show_bar_chart:\n",
        "        self.__display_rouge_bar_chart(scores)\n",
        "      print(tabulate([rouge_score('1'), rouge_score('l')], [\"\", \"f1_score\", \"precision\", \"recall\"], tablefmt=\"grid\"))\n",
        "\n",
        "  def display_human_verifiable_results(self, summarization_model, num_items_to_display=10):\n",
        "    print('Extractive Text Summarization Model:', summarization_model.value)\n",
        "\n",
        "    textrank = TextRank()\n",
        "    bert = Summarizer()\n",
        "    category = random.choice(self.__categories)\n",
        "\n",
        "    for data_item in self.__dataset[category]:\n",
        "      num_items_to_display -= 1\n",
        "      model_summary = textrank.extract_sentences(data_item.get_article())\n",
        "      human_summary = data_item.get_summary()\n",
        "      if num_items_to_display == 0:\n",
        "        break\n",
        "\n",
        "      print('\\n', '--- Model Summary ---', '\\n', model_summary)\n",
        "      print('\\n', '--- Human Summary ---', '\\n', human_summary)"
      ]
    },
    {
      "cell_type": "code",
      "source": [
        "evaluator = Evaluator(PreprocessingTechnique.NONE)\n",
        "evaluator.display_human_verifiable_results(ExtractiveTextSummarizationModel.BERT)"
      ],
      "metadata": {
        "id": "0Aok8daHzRcS"
      },
      "execution_count": null,
      "outputs": []
    },
    {
      "cell_type": "code",
      "source": [
        "evaluator = Evaluator(PreprocessingTechnique.NONE)\n",
        "evaluator.display_rouge_metric_results(ExtractiveTextSummarizationModel.TEXTRANK, show_bar_chart=True)\n",
        "evaluator.display_rouge_metric_results(ExtractiveTextSummarizationModel.BERT, show_bar_chart=True)\n",
        "evaluator.display_rouge_metric_results(ExtractiveTextSummarizationModel.TEXTRANK, by_category=True)\n",
        "evaluator.display_rouge_metric_results(ExtractiveTextSummarizationModel.BERT, by_category=True)"
      ],
      "metadata": {
        "id": "4X28hAYUPL0m"
      },
      "execution_count": 75,
      "outputs": []
    },
    {
      "cell_type": "code",
      "source": [
        "evaluator = Evaluator(PreprocessingTechnique.STOP_WORDS)\n",
        "evaluator.display_rouge_metric_results(ExtractiveTextSummarizationModel.TEXTRANK, show_bar_chart=True)\n",
        "evaluator.display_rouge_metric_results(ExtractiveTextSummarizationModel.BERT, show_bar_chart=True)\n",
        "evaluator.display_rouge_metric_results(ExtractiveTextSummarizationModel.TEXTRANK, by_category=True)\n",
        "evaluator.display_rouge_metric_results(ExtractiveTextSummarizationModel.BERT, by_category=True)"
      ],
      "metadata": {
        "id": "_7NpEW00PdaZ"
      },
      "execution_count": 76,
      "outputs": []
    },
    {
      "cell_type": "code",
      "source": [
        "evaluator = Evaluator(PreprocessingTechnique.LOWER_CASE)\n",
        "evaluator.display_rouge_metric_results(ExtractiveTextSummarizationModel.TEXTRANK, show_bar_chart=True)\n",
        "evaluator.display_rouge_metric_results(ExtractiveTextSummarizationModel.BERT, show_bar_chart=True)\n",
        "evaluator.display_rouge_metric_results(ExtractiveTextSummarizationModel.TEXTRANK, by_category=True)\n",
        "evaluator.display_rouge_metric_results(ExtractiveTextSummarizationModel.BERT, by_category=True)"
      ],
      "metadata": {
        "id": "ggdpctFjPb7Y"
      },
      "execution_count": 77,
      "outputs": []
    }
  ],
  "metadata": {
    "colab": {
      "collapsed_sections": [
        "3MZlZeL8JOD8",
        "huZCc6IUJS4L",
        "aFPxL-xrJWlU"
      ],
      "provenance": [],
      "authorship_tag": "ABX9TyMZsnZwEZLHDPGQs/bFyVHG",
      "include_colab_link": true
    },
    "kernelspec": {
      "display_name": "Python 3",
      "name": "python3"
    },
    "language_info": {
      "name": "python"
    }
  },
  "nbformat": 4,
  "nbformat_minor": 0
}